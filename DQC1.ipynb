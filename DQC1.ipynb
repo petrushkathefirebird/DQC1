{
 "cells": [
  {
   "cell_type": "markdown",
   "id": "b427de26-d2ac-44c3-9288-fd7aafae9c03",
   "metadata": {},
   "source": [
    "# Deterministic quantum computing with one quantum bit\n",
    "\n",
    "Deterministic quantum computing with one quantum bit (DQC1) is a model of mixed state quantum computation introduced by Knill and Laflamme in 1998 [1]. For an auxiliary register (a.k.a. bath) initially in the maximally mixed state, it returns the normalized trace of a controlled unitary acting on the bath from measurements of a single qubit (acting as the control), with an accuracy independent of the problem size. There is no known polynomial-time classical algorithm for estimating the normalized trace, and indeed, a recent paper by Fuuji et al. proved that the output distribution of DQC1 cannot be classically sampled unless the so-called polynomial hierarchy collapses to the second level [2], a possibility deemed so preposterous it was lampooned in a blog post by well-known computer scientist Scott Aaronson [3]. Notably, in the case where the control qubit starts in a pure state (e.g. $|0\\rangle$), it does this without generating any entanglement between the control qubit and the bath [4]. This led Ollivier and Zurek [5] and Henderson and Vedral [6] to propose quantum discord as an alternate measure of non-classical resources."
   ]
  },
  {
   "cell_type": "code",
   "execution_count": 1,
   "id": "c20ff6f1-7b16-457d-b731-8f2b19ebefa1",
   "metadata": {},
   "outputs": [],
   "source": [
    "from math import pi, sqrt"
   ]
  },
  {
   "cell_type": "code",
   "execution_count": 13,
   "id": "4ddae2e2-aa5a-4c07-8c8a-7a11198d50e8",
   "metadata": {},
   "outputs": [
    {
     "name": "stderr",
     "output_type": "stream",
     "text": [
      "ibmqfactory.load_account:WARNING:2021-10-17 14:48:57,225: Credentials are already in use. The existing account in the session will be replaced.\n"
     ]
    }
   ],
   "source": [
    "import numpy as np\n",
    "\n",
    "# Importing standard Qiskit libraries\n",
    "from qiskit import QuantumCircuit, QuantumRegister, ClassicalRegister, transpile, Aer, IBMQ, execute\n",
    "from qiskit.circuit import Gate, ControlledGate\n",
    "from qiskit.extensions.unitary import UnitaryGate\n",
    "from qiskit.providers.aer.library import SetDensityMatrix\n",
    "from qiskit.quantum_info import *\n",
    "from qiskit.tools.jupyter import *\n",
    "from qiskit.visualization import *\n",
    "from ibm_quantum_widgets import *\n",
    "from qiskit.providers.aer import QasmSimulator\n",
    "\n",
    "# Loading your IBM Quantum account(s)\n",
    "provider = IBMQ.load_account()"
   ]
  },
  {
   "cell_type": "markdown",
   "id": "341ab9a1-8a98-4ed3-9d44-b4d79d243415",
   "metadata": {},
   "source": [
    "# Picking a unitary whose trace we want to evaluate\n",
    "\n",
    "First, we generate a unitary matrix of size $2^N$, where $N$ is the number of bath qubits. We then realize it as a controlled `UnitaryGate`."
   ]
  },
  {
   "cell_type": "code",
   "execution_count": 24,
   "id": "b055c144-d9ee-437b-b18a-e6e38a45d17d",
   "metadata": {},
   "outputs": [
    {
     "name": "stdout",
     "output_type": "stream",
     "text": [
      "Trace: (0.4327798523524718+0.5395980939716478j)\n"
     ]
    }
   ],
   "source": [
    "N = 2\n",
    "\n",
    "unitary = random_unitary(2**N)\n",
    "print(\"Trace:\", np.trace(unitary))\n",
    "\n",
    "controlled_unitary = UnitaryGate(Operator(unitary), label='U').control(1)"
   ]
  },
  {
   "cell_type": "markdown",
   "id": "2aee8a97-e88e-48f2-8247-2fbf8b18cf84",
   "metadata": {},
   "source": [
    "# Setting up the initial state\n",
    "\n",
    "The bath is initialized in the maximally mixed state, while the control qubit is left in the $|0\\rangle$ state."
   ]
  },
  {
   "cell_type": "code",
   "execution_count": 25,
   "id": "bae66271-fcad-4bba-9f61-76aae382855f",
   "metadata": {},
   "outputs": [],
   "source": [
    "initial_control_state = DensityMatrix(Statevector([1,0]))\n",
    "initial_bath_state = DensityMatrix(np.eye(2**N))/2**N\n",
    "initial_state = initial_bath_state.tensor(initial_control_state)"
   ]
  },
  {
   "cell_type": "markdown",
   "id": "a8f51d06-89d4-4811-aebb-8b2c56f1ea5b",
   "metadata": {},
   "source": [
    "We can verify we've done this correctly by tracing out the control qubit:"
   ]
  },
  {
   "cell_type": "code",
   "execution_count": 26,
   "id": "0d208dc2-ef98-44d9-b4fa-ba7489b26de8",
   "metadata": {},
   "outputs": [
    {
     "name": "stdout",
     "output_type": "stream",
     "text": [
      "DensityMatrix([[0.25+0.j, 0.  +0.j, 0.  +0.j, 0.  +0.j],\n",
      "               [0.  +0.j, 0.25+0.j, 0.  +0.j, 0.  +0.j],\n",
      "               [0.  +0.j, 0.  +0.j, 0.25+0.j, 0.  +0.j],\n",
      "               [0.  +0.j, 0.  +0.j, 0.  +0.j, 0.25+0.j]],\n",
      "              dims=(2, 2))\n"
     ]
    }
   ],
   "source": [
    "print(partial_trace(initial_bath_state.tensor(initial_control_state),[0]))"
   ]
  },
  {
   "cell_type": "markdown",
   "id": "f9494d3e-b6c7-46b6-b22f-096e6260f582",
   "metadata": {},
   "source": [
    "# Building the circuit for measuring $\\mathrm{Tr}\\{U\\}$\n",
    "\n",
    "The DQC1 circuit is drawn below. To learn about the real (imaginary) part of the trace of $U$, we measure the control qubit in the X-basis (Y-basis):\n",
    "\n",
    "$$\\langle Z\\rangle=\\frac{1}{2^N}\\mathrm{Re}\\:\\mathrm{Tr}\\{U\\}.$$\n",
    "\n"
   ]
  },
  {
   "cell_type": "code",
   "execution_count": 27,
   "id": "3065c41f-0add-4bef-8c83-6cdfc080fb62",
   "metadata": {},
   "outputs": [
    {
     "data": {
      "image/png": "[encoded data removed]",
      "text/plain": [
       "<Figure size 387.597x264.88 with 1 Axes>"
      ]
     },
     "execution_count": 27,
     "metadata": {},
     "output_type": "execute_result"
    }
   ],
   "source": [
    "qc = QuantumCircuit(N+1,1)\n",
    "qc.set_density_matrix(initial_state)\n",
    "qc.h(0)\n",
    "qc.append(controlled_unitary, range(N+1)) \n",
    "qc.h(0)\n",
    "qc.measure(0, 0)\n",
    "  \n",
    "qc.draw(output='mpl')"
   ]
  },
  {
   "cell_type": "markdown",
   "id": "6bd2d0ea-db19-40c1-a5e3-6487b406e95e",
   "metadata": {},
   "source": [
    "This circuit is implemented in the following function, which runs the experiment `num_shots` times in order to build statistics for $\\langle Z\\rangle$. With `Y_basis==True`, the measurement is performed in the Y-basis."
   ]
  },
  {
   "cell_type": "code",
   "execution_count": 31,
   "id": "290f5acd-cfca-4aec-b84c-7e16522d4c83",
   "metadata": {},
   "outputs": [],
   "source": [
    "backend = Aer.get_backend('qasm_simulator')\n",
    "\n",
    "def measure_Z(unitary, Y_basis=False):\n",
    "    \n",
    "    #Let's start by defining our initial state:\n",
    "    N=int(np.log(unitary.dim[0])/np.log(2))\n",
    "    initial_control_state = DensityMatrix(Statevector([1,0]))\n",
    "    initial_bath_state = DensityMatrix(np.eye(2**N))/2**N\n",
    "    initial_state = initial_bath_state.tensor(initial_control_state)\n",
    "    \n",
    "    #We set up the circuit exactly as above, but we now account for the possibility of measuring in the Y-basis.     \n",
    "    qc = QuantumCircuit(N+1,1)\n",
    "    qc.set_density_matrix(initial_state)\n",
    "    qc.h(0)\n",
    "    qc.append(controlled_unitary, range(N+1))\n",
    "    if Y_basis == True:\n",
    "        qc.sdg(0)\n",
    "    qc.h(0)\n",
    "    qc.measure(0, 0)\n",
    "   \n",
    "    #The accuracy of our estimate is ~1/sqrt(num_shots), independent of N. To get an accuracy on the order of 0.01,\n",
    "    #we take num_shots = 10000:\n",
    "    num_shots = 10000\n",
    "    result = execute(qc, backend, shots=num_shots).result()\n",
    "    counts = result.get_counts()\n",
    "    \n",
    "    #To calculate <Z>, we use the fact that <Z>=P(0)-P(1), where P(0) designates the probability of measuring 0.\n",
    "    num_zeros = counts['0']\n",
    "    num_ones = counts['1']\n",
    "\n",
    "    Z = (num_zeros-num_ones)/num_shots\n",
    "\n",
    "    return Z"
   ]
  },
  {
   "cell_type": "markdown",
   "id": "d8055be7-2aa1-4b0b-9e45-1cc42e232745",
   "metadata": {},
   "source": [
    "From our measurements in the X- and Y-bases, we recover $\\mathrm{Tr}\\{U\\}$ by adding the real and imaginary parts appropriately (and multiplying by $2^N$ to account for the normalization):"
   ]
  },
  {
   "cell_type": "code",
   "execution_count": 32,
   "id": "2f076fde-b495-4c4c-a6a3-c17d5f0fd8de",
   "metadata": {},
   "outputs": [],
   "source": [
    "def get_trace(unitary):\n",
    "    N=np.log(unitary.dim[0])/np.log(2) \n",
    "    real_part = 2**N * measure_Z(unitary)\n",
    "    im_part = 2**N * measure_Z(unitary, True)\n",
    "    trace = real_part + im_part*1j\n",
    "    return trace"
   ]
  },
  {
   "cell_type": "markdown",
   "id": "8e9f48a8-2b18-4956-ad12-3b7ebd99eba2",
   "metadata": {},
   "source": [
    "Finally, we compare the actual trace of the matrix $U$ with the trace obtained from DQC1. Note that the accuracy of our estimate is ~1/sqrt(num_shots), independent of N."
   ]
  },
  {
   "cell_type": "code",
   "execution_count": 34,
   "id": "94a920e5-2187-41e1-b736-7f3ad33a4bb0",
   "metadata": {},
   "outputs": [
    {
     "name": "stdout",
     "output_type": "stream",
     "text": [
      "Actual trace: (0.4327798523524718+0.5395980939716478j)\n",
      "Trace returned from DQC1: (0.4128+0.5584j)\n"
     ]
    }
   ],
   "source": [
    "actual_trace = np.trace(unitary)\n",
    "DQC1_trace = get_trace(unitary)\n",
    "\n",
    "print('Actual trace:', actual_trace)\n",
    "print('Trace returned from DQC1:', DQC1_trace)"
   ]
  },
  {
   "cell_type": "markdown",
   "id": "1fb537ad-2339-4924-bf81-4e6651749f74",
   "metadata": {},
   "source": [
    "[1] E. Knill and R. Laflamme, Phys. Rev. Lett. 81, 25 (1998).<br>\n",
    "[2] K. Fujii, H. Kobayashi, T. Morimae, H Nishimura, S. Tamate, and S Tani, Phys. Rev. Lett. 120, 200502 (2018).<br>\n",
    "[3] https://www.scottaaronson.com/writings/phcollapse.pdf<br>\n",
    "[4] A. Datta, A. Shaji, and C. Caves, Phys. Rev. Lett. 100, 050502 (2008).<br>\n",
    "[5] H. Ollivier and W.H. Zurek, Phys. Rev. Lett. 88, 017901 (2002).<br>\n",
    "[6] L. Henderson and V. Vedral, J. Phys. A 34, 6899 (2001)."
   ]
  },
  {
   "cell_type": "code",
   "execution_count": null,
   "id": "2dda9184-c36e-4c14-9061-5ca94179fd95",
   "metadata": {},
   "outputs": [],
   "source": []
  }
 ],
 "metadata": {
  "kernelspec": {
   "display_name": "Qiskit v0.30.1 (ipykernel)",
   "language": "python",
   "name": "python3"
  },
  "language_info": {
   "codemirror_mode": {
    "name": "ipython",
    "version": 3
   },
   "file_extension": ".py",
   "mimetype": "text/x-python",
   "name": "python",
   "nbconvert_exporter": "python",
   "pygments_lexer": "ipython3",
   "version": "3.8.10"
  },
  "widgets": {
   "application/vnd.jupyter.widget-state+json": {
    "state": {
     "02cf13cde021492da62c53a0d96f0784": {
      "model_module": "@jupyter-widgets/controls",
      "model_module_version": "1.5.0",
      "model_name": "HTMLModel",
      "state": {
       "layout": "IPY_MODEL_702eb41e71cd40fc8584495362b6ee8a",
       "style": "IPY_MODEL_fc91693b8db44485bc17c946a87a0112",
       "value": "<h5>Queue</h5>"
      }
     },
     "02da1661ac63474a970cf0024e0620fa": {
      "model_module": "@jupyter-widgets/controls",
      "model_module_version": "1.5.0",
      "model_name": "HTMLModel",
      "state": {
       "layout": "IPY_MODEL_98f15d0f5da1442cb11e4317bede8905",
       "style": "IPY_MODEL_c8da8afebe644f5c8a30d2b35f9f9743",
       "value": "<table><style>\ntable {\n    border-collapse: collapse;\n    width: auto;\n}\n\nth, td {\n    text-align: left;\n    padding: 8px;\n}\n\ntr:nth-child(even) {background-color: #f6f6f6;}\n</style><tr><th></th><th>Frequency</th><th>T1</th><th>T2</th><th>RZ</th><th>SX</th><th>X</th><th>Readout error</th></tr><tr><td><font style='font-weight:bold'>Q0</font></td><td>4.97159 GHz</td><td>132.14565 us</td><td>163.40158 us</td><td>0</td><td>0.00026</td><td>0.00026</td><td>0.0306 </td></table>"
      }
     },
     "0525630ce2064ecb864447fa19e682aa": {
      "model_module": "@jupyter-widgets/controls",
      "model_module_version": "1.5.0",
      "model_name": "HTMLModel",
      "state": {
       "layout": "IPY_MODEL_a3ebe48c720f422ca8c006f0aba90e31",
       "style": "IPY_MODEL_0886687dc45a4d389185e2788d2c34b2",
       "value": "<h5>Backend</h5>"
      }
     },
     "0641accec7e84ca9bc009c611e51bee2": {
      "model_module": "@jupyter-widgets/controls",
      "model_module_version": "1.5.0",
      "model_name": "HTMLModel",
      "state": {
       "layout": "IPY_MODEL_c2ff21deb249420f95d816d32d13b4e8",
       "style": "IPY_MODEL_831f584f86d6478a9a52c24715c0b276",
       "value": "<h5>Message</h5>"
      }
     },
     "07abb92e9c1b48989d14bc88b98dfaed": {
      "model_module": "@jupyter-widgets/base",
      "model_module_version": "1.2.0",
      "model_name": "LayoutModel",
      "state": {
       "margin": "0px 0px 0px 0px"
      }
     },
     "0886687dc45a4d389185e2788d2c34b2": {
      "model_module": "@jupyter-widgets/controls",
      "model_module_version": "1.5.0",
      "model_name": "DescriptionStyleModel",
      "state": {
       "description_width": ""
      }
     },
     "090765abf5814a8085cd22760f762142": {
      "model_module": "@jupyter-widgets/base",
      "model_module_version": "1.2.0",
      "model_name": "LayoutModel",
      "state": {
       "width": "190px"
      }
     },
     "0b077c8d7a854483abc89a845bdad3b3": {
      "model_module": "@jupyter-widgets/base",
      "model_module_version": "1.2.0",
      "model_name": "LayoutModel",
      "state": {
       "grid_area": "left",
       "width": "100%"
      }
     },
     "1203c44878e8420d947380a27bd989b5": {
      "model_module": "@jupyter-widgets/controls",
      "model_module_version": "1.5.0",
      "model_name": "HTMLModel",
      "state": {
       "layout": "IPY_MODEL_b3c1cf68ecca4ff7a6b695af1aa41139",
       "style": "IPY_MODEL_6564a2ddea464e17b41636aac0650781",
       "value": "<h1 style='color:#ffffff;background-color:#000000;padding-top: 1%;padding-bottom: 1%;padding-left: 1%; margin-top: 0px'>ibmq_armonk</h1>"
      }
     },
     "17fabcbb222f481890a79c77e3820ffe": {
      "model_module": "@jupyter-widgets/base",
      "model_module_version": "1.2.0",
      "model_name": "LayoutModel",
      "state": {}
     },
     "1a493ee893ee4e4787ab7699cd7d8b6e": {
      "model_module": "@jupyter-widgets/controls",
      "model_module_version": "1.5.0",
      "model_name": "HTMLMathModel",
      "state": {
       "layout": "IPY_MODEL_e06c85f2cea14345a2a5bf41b7b9cc2e",
       "style": "IPY_MODEL_f57b53651ee3411981423ca55f68da42",
       "value": "<table><style>\ntable {\n    border-collapse: collapse;\n    width: auto;\n}\n\nth, td {\n    text-align: left;\n    padding: 8px;\n}\n\ntr:nth-child(even) {background-color: #f6f6f6;}\n</style><tr><th>Property</th><th>Value</th></tr><tr><td><font style='font-weight:bold'>n_qubits</font></td><td>5</td></tr><tr><td><font style='font-weight:bold'>quantum_volume</font></td><td>32</td></tr><tr><td><font style='font-weight:bold'>operational</font></td><td>True</td></tr><tr><td><font style='font-weight:bold'>status_msg</font></td><td>active</td></tr><tr><td><font style='font-weight:bold'>pending_jobs</font></td><td>0</td></tr><tr><td><font style='font-weight:bold'>backend_version</font></td><td>1.3.34</td></tr><tr><td><font style='font-weight:bold'>basis_gates</font></td><td>['id', 'rz', 'sx', 'x', 'cx', 'reset']</td></tr><tr><td><font style='font-weight:bold'>max_shots</font></td><td>8192</td></tr><tr><td><font style='font-weight:bold'>max_experiments</font></td><td>75</td></tr></table>"
      }
     },
     "1b797a74c7e943909bfafc537f861b9b": {
      "model_module": "@jupyter-widgets/base",
      "model_module_version": "1.2.0",
      "model_name": "LayoutModel",
      "state": {
       "grid_area": "top"
      }
     },
     "1cae8e4bf04e44ad97e027d4b61b88a6": {
      "model_module": "@jupyter-widgets/controls",
      "model_module_version": "1.5.0",
      "model_name": "VBoxModel",
      "state": {
       "children": [
        "IPY_MODEL_a0d2823d23da4ad1b08a52599adb68c3",
        "IPY_MODEL_8fedc975ea9f4c6bb68e87930f97ce03"
       ],
       "layout": "IPY_MODEL_2753fd4997c24c69960c2b3b7f67aeec"
      }
     },
     "1f7c2b45697648c9b35d22f89ba1b63f": {
      "model_module": "@jupyter-widgets/base",
      "model_module_version": "1.2.0",
      "model_name": "LayoutModel",
      "state": {
       "grid_area": "right",
       "padding": "0px 0px 0px 0px",
       "width": "70px"
      }
     },
     "2015d0aa8bf9416c9ad1e0df97dad6d7": {
      "model_module": "@jupyter-widgets/controls",
      "model_module_version": "1.5.0",
      "model_name": "GridBoxModel",
      "state": {
       "children": [
        "IPY_MODEL_4b97888852a447ec8557e6cc5bd9ae32"
       ],
       "layout": "IPY_MODEL_eede3e0f1135408c9915f11334d224ff"
      }
     },
     "23a2ca25f1da4e6ea358d0e4b71d9737": {
      "model_module": "@jupyter-widgets/controls",
      "model_module_version": "1.5.0",
      "model_name": "HTMLModel",
      "state": {
       "layout": "IPY_MODEL_090765abf5814a8085cd22760f762142",
       "style": "IPY_MODEL_dc668f42deef45379bcc5ac73468d628",
       "value": "<h5>Job ID</h5>"
      }
     },
     "23f3a581c36e4db291a32d4095a85a07": {
      "model_module": "@jupyter-widgets/base",
      "model_module_version": "1.2.0",
      "model_name": "LayoutModel",
      "state": {
       "margin": "0px 0px 10px 0px"
      }
     },
     "2753fd4997c24c69960c2b3b7f67aeec": {
      "model_module": "@jupyter-widgets/base",
      "model_module_version": "1.2.0",
      "model_name": "LayoutModel",
      "state": {}
     },
     "2a023557b4324663b5443cf3676859d5": {
      "model_module": "@jupyter-widgets/controls",
      "model_module_version": "1.5.0",
      "model_name": "DescriptionStyleModel",
      "state": {
       "description_width": ""
      }
     },
     "2c5a9f5b3cb44339a12004dad4266e20": {
      "model_module": "@jupyter-widgets/controls",
      "model_module_version": "1.5.0",
      "model_name": "HTMLMathModel",
      "state": {
       "layout": "IPY_MODEL_94c25fea6e4e4e849180bd04adc57211",
       "style": "IPY_MODEL_8c00e844f1a24be5a9d22b846bbd6a80",
       "value": "<table><style>\ntable {\n    border-collapse: collapse;\n    width: auto;\n}\n\nth, td {\n    text-align: left;\n    padding: 8px;\n}\n\ntr:nth-child(even) {background-color: #f6f6f6;}\n</style><tr><th></th><th></th></tr><tr><td>meas_kernels</td><td>['hw_boxcar']</td></tr><tr><td>local</td><td>False</td></tr><tr><td>description</td><td>1 qubit device</td></tr><tr><td>measure_esp_enabled</td><td>False</td></tr><tr><td>n_uchannels</td><td>0</td></tr><tr><td>u_channel_lo</td><td>[]</td></tr><tr><td>meas_levels</td><td>[1, 2]</td></tr><tr><td>coupling_map</td><td>None</td></tr><tr><td>parametric_pulses</td><td>['gaussian', 'gaussian_square', 'drag', 'constant']</td></tr><tr><td>credits_required</td><td>True</td></tr><tr><td>timing_constraints</td><td>{'acquire_alignment': 16, 'granularity': 16, 'min_length': 64, 'pulse_alignment': 1}</td></tr><tr><td>open_pulse</td><td>True</td></tr><tr><td>allow_q_object</td><td>True</td></tr><tr><td>input_allowed</td><td>['job', 'runtime']</td></tr><tr><td>sample_name</td><td>family: Canary, revision: 1.2</td></tr><tr><td>backend_name</td><td>ibmq_armonk</td></tr><tr><td>qubit_lo_range</td><td>[[4.471587679002363, 5.471587679002363]]</td></tr><tr><td>processor_type</td><td>{'family': 'Canary', 'revision': 1.2}</td></tr><tr><td>meas_lo_range</td><td>[[6.493370669000001, 7.493370669000001]]</td></tr><tr><td>memory</td><td>True</td></tr><tr><td>allow_object_storage</td><td>True</td></tr><tr><td>rep_times</td><td>[1000.0]</td></tr><tr><td>discriminators</td><td>['quadratic_discriminator', 'linear_discriminator']</td></tr><tr><td>simulator</td><td>False</td></tr><tr><td>qubit_channel_mapping</td><td>[['m0', 'd0']]</td></tr><tr><td>pulse_num_channels</td><td>9</td></tr><tr><td>conditional</td><td>False</td></tr><tr><td>dtm</td><td>0.2222222222222222</td></tr><tr><td>dynamic_reprate_enabled</td><td>False</td></tr><tr><td>supported_instructions</td><td>['play', 'u1', 'rz', 'setf', 'x', 'acquire', 'measure', 'u3', 'delay', 'shiftf', 'u2', 'sx', 'id']</td></tr><tr><td>acquisition_latency</td><td>[]</td></tr><tr><td>online_date</td><td>2019-10-16 04:00:00+00:00</td></tr><tr><td>conditional_latency</td><td>[]</td></tr><tr><td>uchannels_enabled</td><td>True</td></tr><tr><td>meas_map</td><td>[[0]]</td></tr><tr><td>dt</td><td>0.2222222222222222</td></tr><tr><td>pulse_num_qubits</td><td>3</td></tr><tr><td>channels</td><td>{'acquire0': {'operates': {'qubits': [0]}, 'purpose': 'acquire', 'type': 'acquire'}, 'd0': {'operates': {'qubits': [0]}, 'purpose': 'drive', 'type': 'drive'}, 'm0': {'operates': {'qubits': [0]}, 'purpose': 'measure', 'type': 'measure'}}</td></tr><tr><td>multi_meas_enabled</td><td>True</td></tr><tr><td>url</td><td>None</td></tr><tr><td>hamiltonian</td><td>$$\\begin{align} \\mathcal{H}/\\hbar = & \\sum_{i=0}^{0}\\left(\\frac{\\omega_{q,i}}{2}(\\mathbb{I}-\\sigma_i^{z})+\\frac{\\Delta_{i}}{2}(O_i^2-O_i)+\\Omega_{d,i}D_i(t)\\sigma_i^{X}\\right) \\\\ \\end{align}$$</td></tr><tr><td>n_registers</td><td>1</td></tr></table>"
      }
     },
     "32a0fb5746b6405f8ce893d4390928e7": {
      "model_module": "@jupyter-widgets/controls",
      "model_module_version": "1.5.0",
      "model_name": "GridBoxModel",
      "state": {
       "children": [
        "IPY_MODEL_63aff731d1ee41cbb6b26ecc700e949e",
        "IPY_MODEL_908221bb7a9749eeb2eb1f53124a74d4",
        "IPY_MODEL_58fdc25083e64ab19c3360936d5e597c",
        "IPY_MODEL_fa329661e82448fab270a3747359880a"
       ],
       "layout": "IPY_MODEL_4718c14b48584e9b918b5fb4dac88ccd"
      }
     },
     "3554456722c449d2a4c04e8351e7db9b": {
      "model_module": "@jupyter-widgets/base",
      "model_module_version": "1.2.0",
      "model_name": "LayoutModel",
      "state": {
       "margin": "0px 0px 0px 37px",
       "width": "600px"
      }
     },
     "3aa3ab6e0b814f879c5a53c8080123ef": {
      "model_module": "@jupyter-widgets/controls",
      "model_module_version": "1.5.0",
      "model_name": "DescriptionStyleModel",
      "state": {
       "description_width": ""
      }
     },
     "3d0b732608b44e2e9b897e2252cd33a4": {
      "model_module": "@jupyter-widgets/base",
      "model_module_version": "1.2.0",
      "model_name": "LayoutModel",
      "state": {
       "border": "4px solid #000000",
       "max_height": "650px",
       "min_height": "650px",
       "overflow_y": "hidden"
      }
     },
     "3e10e4304be3414a951f826a7b35af0e": {
      "model_module": "@jupyter-widgets/output",
      "model_module_version": "1.0.0",
      "model_name": "OutputModel",
      "state": {
       "layout": "IPY_MODEL_ceaffd3ee9b34d41ac3fed962c5fc3a4",
       "outputs": [
        {
         "data": {
          "image/png": "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\n",
          "text/plain": "<Figure size 360x360 with 1 Axes>"
         },
         "metadata": {},
         "output_type": "display_data"
        }
       ]
      }
     },
     "3ed31aa59d9d4fa4b9d2ee1b7947966f": {
      "model_module": "@jupyter-widgets/controls",
      "model_module_version": "1.5.0",
      "model_name": "TabModel",
      "state": {
       "layout": "IPY_MODEL_c0be048b3ef147828ea831d00e8dc0af"
      }
     },
     "41844d0205d84d4ab3544b29099deeac": {
      "model_module": "@jupyter-widgets/output",
      "model_module_version": "1.0.0",
      "model_name": "OutputModel",
      "state": {
       "layout": "IPY_MODEL_c496372baa7d4aecb2a62bee289d3c62",
       "outputs": [
        {
         "data": {
          "image/png": "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\n",
          "text/plain": "<Figure size 792x648 with 5 Axes>"
         },
         "metadata": {},
         "output_type": "display_data"
        }
       ]
      }
     },
     "41ef366ae96445f5ade21eec12b0ea01": {
      "model_module": "@jupyter-widgets/controls",
      "model_module_version": "1.5.0",
      "model_name": "HTMLModel",
      "state": {
       "layout": "IPY_MODEL_ed525b917ff3462cb88f39d67083365c",
       "style": "IPY_MODEL_d7a706e231f746e3867d9470d8516fba",
       "value": "<table><style>\ntable {\n    border-collapse: collapse;\n    width: auto;\n}\n\nth, td {\n    text-align: left;\n    padding: 8px;\n}\n\ntr:nth-child(even) {background-color: #f6f6f6;};\n</style><tr><th></th><th>Type</th><th>Gate error</th></tr><tr><td><font style='font-weight:bold'>cx2_1</font></td><td>cx</td><td>1</td></tr><tr><td><font style='font-weight:bold'>cx1_2</font></td><td>cx</td><td>1</td></tr></table>"
      }
     },
     "439fc96888ef423aa2ad669e59d4fcb9": {
      "model_module": "@jupyter-widgets/base",
      "model_module_version": "1.2.0",
      "model_name": "LayoutModel",
      "state": {
       "width": "95px"
      }
     },
     "44c8620d5a314a76b5df5d77897b40e5": {
      "model_module": "@jupyter-widgets/controls",
      "model_module_version": "1.5.0",
      "model_name": "HTMLMathModel",
      "state": {
       "layout": "IPY_MODEL_0b077c8d7a854483abc89a845bdad3b3",
       "style": "IPY_MODEL_e60e518762624ef1b23560129bacb828",
       "value": "<table><style>\ntable {\n    border-collapse: collapse;\n    width: auto;\n}\n\nth, td {\n    text-align: left;\n    padding: 8px;\n}\n\ntr:nth-child(even) {background-color: #f6f6f6;}\n</style><tr><th>Property</th><th>Value</th></tr><tr><td><font style='font-weight:bold'>n_qubits</font></td><td>1</td></tr><tr><td><font style='font-weight:bold'>quantum_volume</font></td><td>1</td></tr><tr><td><font style='font-weight:bold'>operational</font></td><td>True</td></tr><tr><td><font style='font-weight:bold'>status_msg</font></td><td>active</td></tr><tr><td><font style='font-weight:bold'>pending_jobs</font></td><td>0</td></tr><tr><td><font style='font-weight:bold'>backend_version</font></td><td>2.4.18</td></tr><tr><td><font style='font-weight:bold'>basis_gates</font></td><td>['id', 'rz', 'sx', 'x']</td></tr><tr><td><font style='font-weight:bold'>max_shots</font></td><td>8192</td></tr><tr><td><font style='font-weight:bold'>max_experiments</font></td><td>75</td></tr></table>"
      }
     },
     "44c8dcc6b67744928a63058e6378e194": {
      "model_module": "@jupyter-widgets/controls",
      "model_module_version": "1.5.0",
      "model_name": "HTMLMathModel",
      "state": {
       "layout": "IPY_MODEL_d385d74d914c46cab6bd69f9455f2777",
       "style": "IPY_MODEL_e8346b0a1c4d4509be68f3d86cdeade3",
       "value": "<table><style>\ntable {\n    border-collapse: collapse;\n    width: auto;\n}\n\nth, td {\n    text-align: left;\n    padding: 8px;\n}\n\ntr:nth-child(even) {background-color: #f6f6f6;}\n</style><tr><th></th><th></th></tr><tr><td>meas_kernels</td><td>['hw_qmfk']</td></tr><tr><td>local</td><td>False</td></tr><tr><td>description</td><td>5 qubit device</td></tr><tr><td>measure_esp_enabled</td><td>False</td></tr><tr><td>n_uchannels</td><td>8</td></tr><tr><td>u_channel_lo</td><td>[[{'q': 1, 'scale': (1+0j)}], [{'q': 0, 'scale': (1+0j)}], [{'q': 2, 'scale': (1+0j)}], [{'q': 1, 'scale': (1+0j)}], [{'q': 3, 'scale': (1+0j)}], [{'q': 2, 'scale': (1+0j)}], [{'q': 4, 'scale': (1+0j)}], [{'q': 3, 'scale': (1+0j)}]]</td></tr><tr><td>meas_levels</td><td>[1, 2]</td></tr><tr><td>coupling_map</td><td>[[0, 1], [1, 0], [1, 2], [2, 1], [2, 3], [3, 2], [3, 4], [4, 3]]</td></tr><tr><td>parametric_pulses</td><td>['gaussian', 'gaussian_square', 'drag', 'constant']</td></tr><tr><td>credits_required</td><td>True</td></tr><tr><td>timing_constraints</td><td>{'acquire_alignment': 16, 'granularity': 16, 'min_length': 64, 'pulse_alignment': 1}</td></tr><tr><td>open_pulse</td><td>False</td></tr><tr><td>allow_q_object</td><td>True</td></tr><tr><td>input_allowed</td><td>['job', 'runtime']</td></tr><tr><td>sample_name</td><td>family: Falcon, revision: 4, segment: L</td></tr><tr><td>backend_name</td><td>ibmq_santiago</td></tr><tr><td>qubit_lo_range</td><td>[[4.3334270000858846, 5.3334270000858846], [4.123627840558606, 5.123627840558607], [4.32123198092255, 5.32123198092255], [4.242310979310106, 5.242310979310106], [4.316315054503723, 5.316315054503723]]</td></tr><tr><td>rep_delay_range</td><td>[0.0, 500.0]</td></tr><tr><td>processor_type</td><td>{'family': 'Falcon', 'revision': 4, 'segment': 'L'}</td></tr><tr><td>meas_lo_range</td><td>[[6.952624018000001, 7.952624018000001], [6.701014434, 7.701014434], [6.837332258, 7.837332258000001], [6.901770712, 7.901770712], [6.775814414, 7.775814414]]</td></tr><tr><td>memory</td><td>True</td></tr><tr><td>allow_object_storage</td><td>True</td></tr><tr><td>default_rep_delay</td><td>250.0</td></tr><tr><td>rep_times</td><td>[1000.0]</td></tr><tr><td>discriminators</td><td>['linear_discriminator', 'quadratic_discriminator', 'hw_qmfk']</td></tr><tr><td>simulator</td><td>False</td></tr><tr><td>qubit_channel_mapping</td><td>[['u0', 'd0', 'u1', 'm0'], ['u2', 'd1', 'u1', 'm1', 'u0', 'u3'], ['u2', 'm2', 'd2', 'u5', 'u4', 'u3'], ['u7', 'm3', 'u5', 'd3', 'u6', 'u4'], ['u6', 'd4', 'u7', 'm4']]</td></tr><tr><td>pulse_num_channels</td><td>9</td></tr><tr><td>conditional</td><td>False</td></tr><tr><td>dtm</td><td>0.2222222222222222</td></tr><tr><td>dynamic_reprate_enabled</td><td>True</td></tr><tr><td>supported_instructions</td><td>['cx', 'id', 'acquire', 'u2', 'sx', 'shiftf', 'delay', 'measure', 'rz', 'u3', 'x', 'setf', 'u1', 'play', 'reset']</td></tr><tr><td>acquisition_latency</td><td>[]</td></tr><tr><td>online_date</td><td>2020-06-03 04:00:00+00:00</td></tr><tr><td>conditional_latency</td><td>[]</td></tr><tr><td>uchannels_enabled</td><td>True</td></tr><tr><td>meas_map</td><td>[[0, 1, 2, 3, 4]]</td></tr><tr><td>dt</td><td>0.2222222222222222</td></tr><tr><td>pulse_num_qubits</td><td>3</td></tr><tr><td>channels</td><td>{'acquire0': {'operates': {'qubits': [0]}, 'purpose': 'acquire', 'type': 'acquire'}, 'acquire1': {'operates': {'qubits': [1]}, 'purpose': 'acquire', 'type': 'acquire'}, 'acquire2': {'operates': {'qubits': [2]}, 'purpose': 'acquire', 'type': 'acquire'}, 'acquire3': {'operates': {'qubits': [3]}, 'purpose': 'acquire', 'type': 'acquire'}, 'acquire4': {'operates': {'qubits': [4]}, 'purpose': 'acquire', 'type': 'acquire'}, 'd0': {'operates': {'qubits': [0]}, 'purpose': 'drive', 'type': 'drive'}, 'd1': {'operates': {'qubits': [1]}, 'purpose': 'drive', 'type': 'drive'}, 'd2': {'operates': {'qubits': [2]}, 'purpose': 'drive', 'type': 'drive'}, 'd3': {'operates': {'qubits': [3]}, 'purpose': 'drive', 'type': 'drive'}, 'd4': {'operates': {'qubits': [4]}, 'purpose': 'drive', 'type': 'drive'}, 'm0': {'operates': {'qubits': [0]}, 'purpose': 'measure', 'type': 'measure'}, 'm1': {'operates': {'qubits': [1]}, 'purpose': 'measure', 'type': 'measure'}, 'm2': {'operates': {'qubits': [2]}, 'purpose': 'measure', 'type': 'measure'}, 'm3': {'operates': {'qubits': [3]}, 'purpose': 'measure', 'type': 'measure'}, 'm4': {'operates': {'qubits': [4]}, 'purpose': 'measure', 'type': 'measure'}, 'u0': {'operates': {'qubits': [0, 1]}, 'purpose': 'cross-resonance', 'type': 'control'}, 'u1': {'operates': {'qubits': [1, 0]}, 'purpose': 'cross-resonance', 'type': 'control'}, 'u2': {'operates': {'qubits': [1, 2]}, 'purpose': 'cross-resonance', 'type': 'control'}, 'u3': {'operates': {'qubits': [2, 1]}, 'purpose': 'cross-resonance', 'type': 'control'}, 'u4': {'operates': {'qubits': [2, 3]}, 'purpose': 'cross-resonance', 'type': 'control'}, 'u5': {'operates': {'qubits': [3, 2]}, 'purpose': 'cross-resonance', 'type': 'control'}, 'u6': {'operates': {'qubits': [3, 4]}, 'purpose': 'cross-resonance', 'type': 'control'}, 'u7': {'operates': {'qubits': [4, 3]}, 'purpose': 'cross-resonance', 'type': 'control'}}</td></tr><tr><td>multi_meas_enabled</td><td>True</td></tr><tr><td>url</td><td>None</td></tr><tr><td>hamiltonian</td><td>$$\\begin{align} \\mathcal{H}/\\hbar = & \\sum_{i=0}^{4}\\left(\\frac{\\omega_{q,i}}{2}(\\mathbb{I}-\\sigma_i^{z})+\\frac{\\Delta_{i}}{2}(O_i^2-O_i)+\\Omega_{d,i}D_i(t)\\sigma_i^{X}\\right) \\\\ & + J_{0,1}(\\sigma_{0}^{+}\\sigma_{1}^{-}+\\sigma_{0}^{-}\\sigma_{1}^{+}) + J_{1,2}(\\sigma_{1}^{+}\\sigma_{2}^{-}+\\sigma_{1}^{-}\\sigma_{2}^{+}) + J_{2,3}(\\sigma_{2}^{+}\\sigma_{3}^{-}+\\sigma_{2}^{-}\\sigma_{3}^{+}) + J_{3,4}(\\sigma_{3}^{+}\\sigma_{4}^{-}+\\sigma_{3}^{-}\\sigma_{4}^{+}) \\\\ & + \\Omega_{d,0}(U_{0}^{(0,1)}(t))\\sigma_{0}^{X} + \\Omega_{d,1}(U_{1}^{(1,0)}(t)+U_{2}^{(1,2)}(t))\\sigma_{1}^{X} \\\\ & + \\Omega_{d,2}(U_{3}^{(2,1)}(t)+U_{4}^{(2,3)}(t))\\sigma_{2}^{X} + \\Omega_{d,3}(U_{6}^{(3,4)}(t)+U_{5}^{(3,2)}(t))\\sigma_{3}^{X} \\\\ & + \\Omega_{d,4}(U_{7}^{(4,3)}(t))\\sigma_{4}^{X} \\\\ \\end{align}$$</td></tr><tr><td>n_registers</td><td>1</td></tr></table>"
      }
     },
     "4718c14b48584e9b918b5fb4dac88ccd": {
      "model_module": "@jupyter-widgets/base",
      "model_module_version": "1.2.0",
      "model_name": "LayoutModel",
      "state": {
       "grid_gap": "0px 0px",
       "grid_template_areas": "\n                                                   \"top top top\"\n                                                   \"left middle right\"\n                                                   ",
       "grid_template_columns": "33% 33% 33%",
       "grid_template_rows": "auto auto"
      }
     },
     "4b97888852a447ec8557e6cc5bd9ae32": {
      "model_module": "@jupyter-widgets/controls",
      "model_module_version": "1.5.0",
      "model_name": "ButtonModel",
      "state": {
       "button_style": "primary",
       "description": "Clear",
       "layout": "IPY_MODEL_1f7c2b45697648c9b35d22f89ba1b63f",
       "style": "IPY_MODEL_9d271a125aa64a8f98f6bf6377eda3d9"
      }
     },
     "4f01124ef71a4147aa275cf30e2cb585": {
      "model_module": "@jupyter-widgets/controls",
      "model_module_version": "1.5.0",
      "model_name": "TabModel",
      "state": {
       "_titles": {
        "0": "Configuration",
        "1": "Qubit Properties",
        "2": "Multi-Qubit Gates",
        "3": "Error Map",
        "4": "Job History"
       },
       "children": [
        "IPY_MODEL_775fa6a0e8b04811af4f0d1d9ab132d9",
        "IPY_MODEL_ba5b39674bc44ff399957b95dc2f8cf4",
        "IPY_MODEL_32a0fb5746b6405f8ce893d4390928e7",
        "IPY_MODEL_64425ed495bc41879919d9bcbafff406",
        "IPY_MODEL_3ed31aa59d9d4fa4b9d2ee1b7947966f"
       ],
       "layout": "IPY_MODEL_bcd1307febef4ac5a90bddbdaf41159e"
      }
     },
     "543afc5b14e343c99dbfe1666c634fca": {
      "model_module": "@jupyter-widgets/base",
      "model_module_version": "1.2.0",
      "model_name": "LayoutModel",
      "state": {
       "border": "4px solid #000000",
       "max_height": "650px",
       "min_height": "650px",
       "overflow_y": "hidden"
      }
     },
     "55eb894ce40442d4a6b0e02357e77596": {
      "model_module": "@jupyter-widgets/base",
      "model_module_version": "1.2.0",
      "model_name": "LayoutModel",
      "state": {
       "grid_area": "left"
      }
     },
     "56d7a2cc0f5e4d748206cc074cd4d20e": {
      "model_module": "@jupyter-widgets/controls",
      "model_module_version": "1.5.0",
      "model_name": "HBoxModel",
      "state": {
       "children": [
        "IPY_MODEL_23a2ca25f1da4e6ea358d0e4b71d9737",
        "IPY_MODEL_0525630ce2064ecb864447fa19e682aa",
        "IPY_MODEL_e458985a6a704403bc850ca2930ef48d",
        "IPY_MODEL_02cf13cde021492da62c53a0d96f0784",
        "IPY_MODEL_0641accec7e84ca9bc009c611e51bee2"
       ],
       "layout": "IPY_MODEL_3554456722c449d2a4c04e8351e7db9b"
      }
     },
     "574e3c5be5dc4f7d8d9f6231da9ddbd8": {
      "model_module": "@jupyter-widgets/controls",
      "model_module_version": "1.5.0",
      "model_name": "HTMLModel",
      "state": {
       "layout": "IPY_MODEL_23f3a581c36e4db291a32d4095a85a07",
       "style": "IPY_MODEL_a9b2a7c027764682bc1390bbf788f52a",
       "value": "<p style='font-family: IBM Plex Sans, Arial, Helvetica, sans-serif; font-size: 20px; font-weight: medium;'>Circuit Properties</p>"
      }
     },
     "58fdc25083e64ab19c3360936d5e597c": {
      "model_module": "@jupyter-widgets/controls",
      "model_module_version": "1.5.0",
      "model_name": "HTMLModel",
      "state": {
       "layout": "IPY_MODEL_c20c0e1faa48427fbe5d5cdf426265ea",
       "style": "IPY_MODEL_a541b7a13a0448029ee3b0a3334332f3",
       "value": "<table><style>\ntable {\n    border-collapse: collapse;\n    width: auto;\n}\n\nth, td {\n    text-align: left;\n    padding: 8px;\n}\n\ntr:nth-child(even) {background-color: #f6f6f6;};\n</style><tr><th></th><th>Type</th><th>Gate error</th></tr></table>"
      }
     },
     "593942bf265740ebae6afe1c78cfe252": {
      "model_module": "@jupyter-widgets/controls",
      "model_module_version": "1.5.0",
      "model_name": "HTMLModel",
      "state": {
       "layout": "IPY_MODEL_d012bdaf6ef84ec682db1ed92dcda73c",
       "style": "IPY_MODEL_78dfd704ca484daf80e5acf1b8942eba",
       "value": "<div><font style='font-weight:bold'>last_update_date</font>: Sun 17 October 2021 at 04:06 UTC</div>"
      }
     },
     "61a9e341973b47b28f27ddaae4b24b7d": {
      "model_module": "@jupyter-widgets/controls",
      "model_module_version": "1.5.0",
      "model_name": "HTMLModel",
      "state": {
       "layout": "IPY_MODEL_cae6c41ee73f4eb9bed191353bd48e18",
       "style": "IPY_MODEL_77e49b2d65e142b990061007048125f7",
       "value": "<table><style>\ntable {\n    border-collapse: collapse;\n    width: auto;\n}\n\nth, td {\n    text-align: left;\n    padding: 8px;\n}\n\ntr:nth-child(even) {background-color: #f6f6f6;};\n</style><tr><th></th><th>Type</th><th>Gate error</th></tr><tr><td><font style='font-weight:bold'>cx4_3</font></td><td>cx</td><td>0.00653</td></tr><tr><td><font style='font-weight:bold'>cx3_4</font></td><td>cx</td><td>0.00653</td></tr><tr><td><font style='font-weight:bold'>cx0_1</font></td><td>cx</td><td>0.01999</td></tr></table>"
      }
     },
     "6392b2413e8b451fb9064844bd2c3dac": {
      "model_module": "@jupyter-widgets/controls",
      "model_module_version": "1.5.0",
      "model_name": "DescriptionStyleModel",
      "state": {
       "description_width": ""
      }
     },
     "63aff731d1ee41cbb6b26ecc700e949e": {
      "model_module": "@jupyter-widgets/controls",
      "model_module_version": "1.5.0",
      "model_name": "HTMLModel",
      "state": {
       "layout": "IPY_MODEL_89ac7c45bbd04d4697b3a88e0ef39c15",
       "style": "IPY_MODEL_d4a0e362e32b48acab237303354fd0d4",
       "value": "<div><font style='font-weight:bold'>last_update_date</font>: 2021-10-17 04:06:55+00:00</div>"
      }
     },
     "64425ed495bc41879919d9bcbafff406": {
      "model_module": "@jupyter-widgets/output",
      "model_module_version": "1.0.0",
      "model_name": "OutputModel",
      "state": {
       "layout": "IPY_MODEL_7fcae0a1cf574b25857e6e6c61be5863",
       "outputs": [
        {
         "data": {
          "image/png": "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\n",
          "text/plain": "<Figure size 792x648 with 4 Axes>"
         },
         "metadata": {},
         "output_type": "display_data"
        }
       ]
      }
     },
     "6564a2ddea464e17b41636aac0650781": {
      "model_module": "@jupyter-widgets/controls",
      "model_module_version": "1.5.0",
      "model_name": "DescriptionStyleModel",
      "state": {
       "description_width": ""
      }
     },
     "702eb41e71cd40fc8584495362b6ee8a": {
      "model_module": "@jupyter-widgets/base",
      "model_module_version": "1.2.0",
      "model_name": "LayoutModel",
      "state": {
       "width": "70px"
      }
     },
     "775fa6a0e8b04811af4f0d1d9ab132d9": {
      "model_module": "@jupyter-widgets/controls",
      "model_module_version": "1.5.0",
      "model_name": "GridBoxModel",
      "state": {
       "children": [
        "IPY_MODEL_44c8620d5a314a76b5df5d77897b40e5",
        "IPY_MODEL_3e10e4304be3414a951f826a7b35af0e",
        "IPY_MODEL_2c5a9f5b3cb44339a12004dad4266e20"
       ],
       "layout": "IPY_MODEL_b020ce696549426e815a84d9595cb255"
      }
     },
     "77e49b2d65e142b990061007048125f7": {
      "model_module": "@jupyter-widgets/controls",
      "model_module_version": "1.5.0",
      "model_name": "DescriptionStyleModel",
      "state": {
       "description_width": ""
      }
     },
     "78dfd704ca484daf80e5acf1b8942eba": {
      "model_module": "@jupyter-widgets/controls",
      "model_module_version": "1.5.0",
      "model_name": "DescriptionStyleModel",
      "state": {
       "description_width": ""
      }
     },
     "7acc2a7dde5946c083cb156f7d5f670e": {
      "model_module": "@jupyter-widgets/base",
      "model_module_version": "1.2.0",
      "model_name": "LayoutModel",
      "state": {}
     },
     "7ebcb4b8e15142d4ad77ad967d3f68a4": {
      "model_module": "@jupyter-widgets/controls",
      "model_module_version": "1.5.0",
      "model_name": "TabModel",
      "state": {
       "_titles": {
        "0": "Configuration",
        "1": "Qubit Properties",
        "2": "Multi-Qubit Gates",
        "3": "Error Map",
        "4": "Job History"
       },
       "children": [
        "IPY_MODEL_f1ec224ea26f4b2c8b36ac36bc4beb3a",
        "IPY_MODEL_1cae8e4bf04e44ad97e027d4b61b88a6",
        "IPY_MODEL_dc47013e02e8475895cfcfc0daea75f7",
        "IPY_MODEL_41844d0205d84d4ab3544b29099deeac",
        "IPY_MODEL_8babe295ba6042beaf64ea44438616c9"
       ],
       "layout": "IPY_MODEL_d622237c4f164a0c9467b83aadb5847e"
      }
     },
     "7fcae0a1cf574b25857e6e6c61be5863": {
      "model_module": "@jupyter-widgets/base",
      "model_module_version": "1.2.0",
      "model_name": "LayoutModel",
      "state": {
       "align_items": "center",
       "display": "flex-inline"
      }
     },
     "831f584f86d6478a9a52c24715c0b276": {
      "model_module": "@jupyter-widgets/controls",
      "model_module_version": "1.5.0",
      "model_name": "DescriptionStyleModel",
      "state": {
       "description_width": ""
      }
     },
     "852fa7c5299d46f1a8184c022992fdba": {
      "model_module": "@jupyter-widgets/base",
      "model_module_version": "1.2.0",
      "model_name": "LayoutModel",
      "state": {
       "grid_area": "right"
      }
     },
     "89ac7c45bbd04d4697b3a88e0ef39c15": {
      "model_module": "@jupyter-widgets/base",
      "model_module_version": "1.2.0",
      "model_name": "LayoutModel",
      "state": {
       "grid_area": "top"
      }
     },
     "8babe295ba6042beaf64ea44438616c9": {
      "model_module": "@jupyter-widgets/controls",
      "model_module_version": "1.5.0",
      "model_name": "TabModel",
      "state": {
       "layout": "IPY_MODEL_f8c1e011ffb84d89abf713f0309fc3be"
      }
     },
     "8c00e844f1a24be5a9d22b846bbd6a80": {
      "model_module": "@jupyter-widgets/controls",
      "model_module_version": "1.5.0",
      "model_name": "DescriptionStyleModel",
      "state": {
       "description_width": ""
      }
     },
     "8f68630558734f6291e4fffcd68818eb": {
      "model_module": "@jupyter-widgets/controls",
      "model_module_version": "1.5.0",
      "model_name": "HTMLModel",
      "state": {
       "layout": "IPY_MODEL_07abb92e9c1b48989d14bc88b98dfaed",
       "style": "IPY_MODEL_d8321647a86843a2a106012db8457260",
       "value": "<h1 style='color:#ffffff;background-color:#000000;padding-top: 1%;padding-bottom: 1%;padding-left: 1%; margin-top: 0px'>ibmq_santiago</h1>"
      }
     },
     "8fedc975ea9f4c6bb68e87930f97ce03": {
      "model_module": "@jupyter-widgets/controls",
      "model_module_version": "1.5.0",
      "model_name": "HTMLModel",
      "state": {
       "layout": "IPY_MODEL_7acc2a7dde5946c083cb156f7d5f670e",
       "style": "IPY_MODEL_9be458cbd8bd4203aff44c2667bba522",
       "value": "<table><style>\ntable {\n    border-collapse: collapse;\n    width: auto;\n}\n\nth, td {\n    text-align: left;\n    padding: 8px;\n}\n\ntr:nth-child(even) {background-color: #f6f6f6;}\n</style><tr><th></th><th>Frequency</th><th>T1</th><th>T2</th><th>RZ</th><th>SX</th><th>X</th><th>Readout error</th></tr><tr><td><font style='font-weight:bold'>Q0</font></td><td>4.83343 GHz</td><td>82.6444 us</td><td>127.63083 us</td><td>0</td><td>0.00049</td><td>0.00049</td><td>0.0405 </td><tr><td><font style='font-weight:bold'>Q1</font></td><td>4.62363 GHz</td><td>57.28756 us</td><td>69.31899 us</td><td>0</td><td>0.00033</td><td>0.00033</td><td>0.0563 </td><tr><td><font style='font-weight:bold'>Q2</font></td><td>4.82123 GHz</td><td>23.87424 us</td><td>18.33771 us</td><td>0</td><td>0.06012</td><td>0.06012</td><td>0.1359 </td><tr><td><font style='font-weight:bold'>Q3</font></td><td>4.74231 GHz</td><td>94.52372 us</td><td>98.52089 us</td><td>0</td><td>0.0002</td><td>0.0002</td><td>0.0054 </td><tr><td><font style='font-weight:bold'>Q4</font></td><td>4.81632 GHz</td><td>88.31741 us</td><td>123.1892 us</td><td>0</td><td>0.00018</td><td>0.00018</td><td>0.0137 </td></table>"
      }
     },
     "908221bb7a9749eeb2eb1f53124a74d4": {
      "model_module": "@jupyter-widgets/controls",
      "model_module_version": "1.5.0",
      "model_name": "HTMLModel",
      "state": {
       "layout": "IPY_MODEL_55eb894ce40442d4a6b0e02357e77596",
       "style": "IPY_MODEL_e8c2af180cd6485099ddd6d2825c62d6",
       "value": "<table><style>\ntable {\n    border-collapse: collapse;\n    width: auto;\n}\n\nth, td {\n    text-align: left;\n    padding: 8px;\n}\n\ntr:nth-child(even) {background-color: #f6f6f6;};\n</style><tr><th></th><th>Type</th><th>Gate error</th></tr></table>"
      }
     },
     "94c25fea6e4e4e849180bd04adc57211": {
      "model_module": "@jupyter-widgets/base",
      "model_module_version": "1.2.0",
      "model_name": "LayoutModel",
      "state": {
       "grid_area": "bottom",
       "width": "auto"
      }
     },
     "95733831fbcb4997bdaa820d4ef1ff63": {
      "model_module": "@jupyter-widgets/controls",
      "model_module_version": "1.5.0",
      "model_name": "HTMLModel",
      "state": {
       "layout": "IPY_MODEL_ae71653d0ff34c6288b31984c4afa350",
       "style": "IPY_MODEL_3aa3ab6e0b814f879c5a53c8080123ef",
       "value": "<table><style>\ntable {\n    border-collapse: collapse;\n    width: auto;\n}\n\nth, td {\n    text-align: left;\n    padding: 8px;\n}\n\ntr:nth-child(even) {background-color: #f6f6f6;};\n</style><tr><th></th><th>Type</th><th>Gate error</th></tr><tr><td><font style='font-weight:bold'>cx1_0</font></td><td>cx</td><td>0.01999</td></tr><tr><td><font style='font-weight:bold'>cx2_3</font></td><td>cx</td><td>1</td></tr><tr><td><font style='font-weight:bold'>cx3_2</font></td><td>cx</td><td>1</td></tr></table>"
      }
     },
     "98f15d0f5da1442cb11e4317bede8905": {
      "model_module": "@jupyter-widgets/base",
      "model_module_version": "1.2.0",
      "model_name": "LayoutModel",
      "state": {}
     },
     "9be458cbd8bd4203aff44c2667bba522": {
      "model_module": "@jupyter-widgets/controls",
      "model_module_version": "1.5.0",
      "model_name": "DescriptionStyleModel",
      "state": {
       "description_width": ""
      }
     },
     "9d271a125aa64a8f98f6bf6377eda3d9": {
      "model_module": "@jupyter-widgets/controls",
      "model_module_version": "1.5.0",
      "model_name": "ButtonStyleModel",
      "state": {}
     },
     "a0d2823d23da4ad1b08a52599adb68c3": {
      "model_module": "@jupyter-widgets/controls",
      "model_module_version": "1.5.0",
      "model_name": "HTMLModel",
      "state": {
       "layout": "IPY_MODEL_17fabcbb222f481890a79c77e3820ffe",
       "style": "IPY_MODEL_2a023557b4324663b5443cf3676859d5",
       "value": "<div><font style='font-weight:bold'>last_update_date</font>: Sun 17 October 2021 at 14:21 UTC</div>"
      }
     },
     "a1e22eb1fb344680ad7548271e83b155": {
      "model_module": "@jupyter-widgets/output",
      "model_module_version": "1.0.0",
      "model_name": "OutputModel",
      "state": {
       "layout": "IPY_MODEL_c69596caa277441985192400b8f3c6e6",
       "outputs": [
        {
         "data": {
          "image/png": "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\n",
          "text/plain": "<Figure size 360x360 with 1 Axes>"
         },
         "metadata": {},
         "output_type": "display_data"
        }
       ]
      }
     },
     "a3ebe48c720f422ca8c006f0aba90e31": {
      "model_module": "@jupyter-widgets/base",
      "model_module_version": "1.2.0",
      "model_name": "LayoutModel",
      "state": {
       "width": "145px"
      }
     },
     "a541b7a13a0448029ee3b0a3334332f3": {
      "model_module": "@jupyter-widgets/controls",
      "model_module_version": "1.5.0",
      "model_name": "DescriptionStyleModel",
      "state": {
       "description_width": ""
      }
     },
     "a6ad2b0e1bf14ec5b7f9c7d9d87cbfe4": {
      "model_module": "@jupyter-widgets/controls",
      "model_module_version": "1.5.0",
      "model_name": "VBoxModel",
      "state": {
       "children": [
        "IPY_MODEL_1203c44878e8420d947380a27bd989b5",
        "IPY_MODEL_4f01124ef71a4147aa275cf30e2cb585"
       ],
       "layout": "IPY_MODEL_543afc5b14e343c99dbfe1666c634fca"
      }
     },
     "a9b2a7c027764682bc1390bbf788f52a": {
      "model_module": "@jupyter-widgets/controls",
      "model_module_version": "1.5.0",
      "model_name": "DescriptionStyleModel",
      "state": {
       "description_width": ""
      }
     },
     "ad41d9b35b904ffe9483d5cb1df7f3c0": {
      "model_module": "@jupyter-widgets/controls",
      "model_module_version": "1.5.0",
      "model_name": "VBoxModel",
      "state": {
       "children": [
        "IPY_MODEL_8f68630558734f6291e4fffcd68818eb",
        "IPY_MODEL_7ebcb4b8e15142d4ad77ad967d3f68a4"
       ],
       "layout": "IPY_MODEL_3d0b732608b44e2e9b897e2252cd33a4"
      }
     },
     "adf465db21ba44f1a6a42c91dfe1836d": {
      "model_module": "@jupyter-widgets/controls",
      "model_module_version": "1.5.0",
      "model_name": "HTMLModel",
      "state": {
       "layout": "IPY_MODEL_1b797a74c7e943909bfafc537f861b9b",
       "style": "IPY_MODEL_b685a8d94b3f46c194f173e9287fb782",
       "value": "<div><font style='font-weight:bold'>last_update_date</font>: 2021-10-17 14:21:17+00:00</div>"
      }
     },
     "ae71653d0ff34c6288b31984c4afa350": {
      "model_module": "@jupyter-widgets/base",
      "model_module_version": "1.2.0",
      "model_name": "LayoutModel",
      "state": {
       "grid_area": "middle"
      }
     },
     "b020ce696549426e815a84d9595cb255": {
      "model_module": "@jupyter-widgets/base",
      "model_module_version": "1.2.0",
      "model_name": "LayoutModel",
      "state": {
       "grid_gap": "0px 0px",
       "grid_template_areas": "\n                               \"left right right right\"\n                               \"bottom bottom bottom bottom\"\n                               ",
       "grid_template_columns": "31% 23% 23% 23%",
       "grid_template_rows": "auto auto"
      }
     },
     "b3c1cf68ecca4ff7a6b695af1aa41139": {
      "model_module": "@jupyter-widgets/base",
      "model_module_version": "1.2.0",
      "model_name": "LayoutModel",
      "state": {
       "margin": "0px 0px 0px 0px"
      }
     },
     "b685a8d94b3f46c194f173e9287fb782": {
      "model_module": "@jupyter-widgets/controls",
      "model_module_version": "1.5.0",
      "model_name": "DescriptionStyleModel",
      "state": {
       "description_width": ""
      }
     },
     "ba5b39674bc44ff399957b95dc2f8cf4": {
      "model_module": "@jupyter-widgets/controls",
      "model_module_version": "1.5.0",
      "model_name": "VBoxModel",
      "state": {
       "children": [
        "IPY_MODEL_593942bf265740ebae6afe1c78cfe252",
        "IPY_MODEL_02da1661ac63474a970cf0024e0620fa"
       ],
       "layout": "IPY_MODEL_e1f6c64da49f49a5abfe4747372f71c9"
      }
     },
     "bcd1307febef4ac5a90bddbdaf41159e": {
      "model_module": "@jupyter-widgets/base",
      "model_module_version": "1.2.0",
      "model_name": "LayoutModel",
      "state": {
       "overflow_y": "scroll"
      }
     },
     "c0be048b3ef147828ea831d00e8dc0af": {
      "model_module": "@jupyter-widgets/base",
      "model_module_version": "1.2.0",
      "model_name": "LayoutModel",
      "state": {
       "max_height": "620px"
      }
     },
     "c20c0e1faa48427fbe5d5cdf426265ea": {
      "model_module": "@jupyter-widgets/base",
      "model_module_version": "1.2.0",
      "model_name": "LayoutModel",
      "state": {
       "grid_area": "middle"
      }
     },
     "c2ff21deb249420f95d816d32d13b4e8": {
      "model_module": "@jupyter-widgets/base",
      "model_module_version": "1.2.0",
      "model_name": "LayoutModel",
      "state": {}
     },
     "c496372baa7d4aecb2a62bee289d3c62": {
      "model_module": "@jupyter-widgets/base",
      "model_module_version": "1.2.0",
      "model_name": "LayoutModel",
      "state": {
       "align_items": "center",
       "display": "flex-inline"
      }
     },
     "c69596caa277441985192400b8f3c6e6": {
      "model_module": "@jupyter-widgets/base",
      "model_module_version": "1.2.0",
      "model_name": "LayoutModel",
      "state": {
       "align_items": "center",
       "display": "flex-inline",
       "grid_area": "right",
       "max_height": "325px",
       "padding": "10px 10px 10px 10px",
       "width": "auto"
      }
     },
     "c8da8afebe644f5c8a30d2b35f9f9743": {
      "model_module": "@jupyter-widgets/controls",
      "model_module_version": "1.5.0",
      "model_name": "DescriptionStyleModel",
      "state": {
       "description_width": ""
      }
     },
     "cae6c41ee73f4eb9bed191353bd48e18": {
      "model_module": "@jupyter-widgets/base",
      "model_module_version": "1.2.0",
      "model_name": "LayoutModel",
      "state": {
       "grid_area": "left"
      }
     },
     "ceaffd3ee9b34d41ac3fed962c5fc3a4": {
      "model_module": "@jupyter-widgets/base",
      "model_module_version": "1.2.0",
      "model_name": "LayoutModel",
      "state": {
       "align_items": "center",
       "display": "flex-inline",
       "grid_area": "right",
       "max_height": "325px",
       "padding": "10px 10px 10px 10px",
       "width": "auto"
      }
     },
     "d012bdaf6ef84ec682db1ed92dcda73c": {
      "model_module": "@jupyter-widgets/base",
      "model_module_version": "1.2.0",
      "model_name": "LayoutModel",
      "state": {}
     },
     "d385d74d914c46cab6bd69f9455f2777": {
      "model_module": "@jupyter-widgets/base",
      "model_module_version": "1.2.0",
      "model_name": "LayoutModel",
      "state": {
       "grid_area": "bottom",
       "width": "auto"
      }
     },
     "d4a0e362e32b48acab237303354fd0d4": {
      "model_module": "@jupyter-widgets/controls",
      "model_module_version": "1.5.0",
      "model_name": "DescriptionStyleModel",
      "state": {
       "description_width": ""
      }
     },
     "d622237c4f164a0c9467b83aadb5847e": {
      "model_module": "@jupyter-widgets/base",
      "model_module_version": "1.2.0",
      "model_name": "LayoutModel",
      "state": {
       "overflow_y": "scroll"
      }
     },
     "d7a706e231f746e3867d9470d8516fba": {
      "model_module": "@jupyter-widgets/controls",
      "model_module_version": "1.5.0",
      "model_name": "DescriptionStyleModel",
      "state": {
       "description_width": ""
      }
     },
     "d8321647a86843a2a106012db8457260": {
      "model_module": "@jupyter-widgets/controls",
      "model_module_version": "1.5.0",
      "model_name": "DescriptionStyleModel",
      "state": {
       "description_width": ""
      }
     },
     "db4ff33e40d24fe1aaa8e21bf88f9ee1": {
      "model_module": "@jupyter-widgets/base",
      "model_module_version": "1.2.0",
      "model_name": "LayoutModel",
      "state": {
       "grid_gap": "0px 0px",
       "grid_template_areas": "\n                                                   \"top top top\"\n                                                   \"left middle right\"\n                                                   ",
       "grid_template_columns": "33% 33% 33%",
       "grid_template_rows": "auto auto"
      }
     },
     "dc47013e02e8475895cfcfc0daea75f7": {
      "model_module": "@jupyter-widgets/controls",
      "model_module_version": "1.5.0",
      "model_name": "GridBoxModel",
      "state": {
       "children": [
        "IPY_MODEL_adf465db21ba44f1a6a42c91dfe1836d",
        "IPY_MODEL_61a9e341973b47b28f27ddaae4b24b7d",
        "IPY_MODEL_95733831fbcb4997bdaa820d4ef1ff63",
        "IPY_MODEL_41ef366ae96445f5ade21eec12b0ea01"
       ],
       "layout": "IPY_MODEL_db4ff33e40d24fe1aaa8e21bf88f9ee1"
      }
     },
     "dc668f42deef45379bcc5ac73468d628": {
      "model_module": "@jupyter-widgets/controls",
      "model_module_version": "1.5.0",
      "model_name": "DescriptionStyleModel",
      "state": {
       "description_width": ""
      }
     },
     "e06c85f2cea14345a2a5bf41b7b9cc2e": {
      "model_module": "@jupyter-widgets/base",
      "model_module_version": "1.2.0",
      "model_name": "LayoutModel",
      "state": {
       "grid_area": "left",
       "width": "100%"
      }
     },
     "e1f6c64da49f49a5abfe4747372f71c9": {
      "model_module": "@jupyter-widgets/base",
      "model_module_version": "1.2.0",
      "model_name": "LayoutModel",
      "state": {}
     },
     "e40def8959c549ada6d23e3ca09dfec0": {
      "model_module": "@jupyter-widgets/controls",
      "model_module_version": "1.5.0",
      "model_name": "DescriptionStyleModel",
      "state": {
       "description_width": ""
      }
     },
     "e458985a6a704403bc850ca2930ef48d": {
      "model_module": "@jupyter-widgets/controls",
      "model_module_version": "1.5.0",
      "model_name": "HTMLModel",
      "state": {
       "layout": "IPY_MODEL_439fc96888ef423aa2ad669e59d4fcb9",
       "style": "IPY_MODEL_e40def8959c549ada6d23e3ca09dfec0",
       "value": "<h5>Status</h5>"
      }
     },
     "e60e518762624ef1b23560129bacb828": {
      "model_module": "@jupyter-widgets/controls",
      "model_module_version": "1.5.0",
      "model_name": "DescriptionStyleModel",
      "state": {
       "description_width": ""
      }
     },
     "e8346b0a1c4d4509be68f3d86cdeade3": {
      "model_module": "@jupyter-widgets/controls",
      "model_module_version": "1.5.0",
      "model_name": "DescriptionStyleModel",
      "state": {
       "description_width": ""
      }
     },
     "e8c2af180cd6485099ddd6d2825c62d6": {
      "model_module": "@jupyter-widgets/controls",
      "model_module_version": "1.5.0",
      "model_name": "DescriptionStyleModel",
      "state": {
       "description_width": ""
      }
     },
     "ed525b917ff3462cb88f39d67083365c": {
      "model_module": "@jupyter-widgets/base",
      "model_module_version": "1.2.0",
      "model_name": "LayoutModel",
      "state": {
       "grid_area": "right"
      }
     },
     "eede3e0f1135408c9915f11334d224ff": {
      "model_module": "@jupyter-widgets/base",
      "model_module_version": "1.2.0",
      "model_name": "LayoutModel",
      "state": {
       "grid_template_areas": "\n                                       \". . . . right \"\n                                        ",
       "grid_template_columns": "20% 20% 20% 20% 20%",
       "width": "100%"
      }
     },
     "f106b9c8328049ada4ada9b41b00088a": {
      "model_module": "@jupyter-widgets/base",
      "model_module_version": "1.2.0",
      "model_name": "LayoutModel",
      "state": {
       "grid_gap": "0px 0px",
       "grid_template_areas": "\n                               \"left right right right\"\n                               \"bottom bottom bottom bottom\"\n                               ",
       "grid_template_columns": "31% 23% 23% 23%",
       "grid_template_rows": "auto auto"
      }
     },
     "f1ec224ea26f4b2c8b36ac36bc4beb3a": {
      "model_module": "@jupyter-widgets/controls",
      "model_module_version": "1.5.0",
      "model_name": "GridBoxModel",
      "state": {
       "children": [
        "IPY_MODEL_1a493ee893ee4e4787ab7699cd7d8b6e",
        "IPY_MODEL_a1e22eb1fb344680ad7548271e83b155",
        "IPY_MODEL_44c8dcc6b67744928a63058e6378e194"
       ],
       "layout": "IPY_MODEL_f106b9c8328049ada4ada9b41b00088a"
      }
     },
     "f57b53651ee3411981423ca55f68da42": {
      "model_module": "@jupyter-widgets/controls",
      "model_module_version": "1.5.0",
      "model_name": "DescriptionStyleModel",
      "state": {
       "description_width": ""
      }
     },
     "f8c1e011ffb84d89abf713f0309fc3be": {
      "model_module": "@jupyter-widgets/base",
      "model_module_version": "1.2.0",
      "model_name": "LayoutModel",
      "state": {
       "max_height": "620px"
      }
     },
     "fa329661e82448fab270a3747359880a": {
      "model_module": "@jupyter-widgets/controls",
      "model_module_version": "1.5.0",
      "model_name": "HTMLModel",
      "state": {
       "layout": "IPY_MODEL_852fa7c5299d46f1a8184c022992fdba",
       "style": "IPY_MODEL_6392b2413e8b451fb9064844bd2c3dac",
       "value": "<table><style>\ntable {\n    border-collapse: collapse;\n    width: auto;\n}\n\nth, td {\n    text-align: left;\n    padding: 8px;\n}\n\ntr:nth-child(even) {background-color: #f6f6f6;};\n</style><tr><th></th><th>Type</th><th>Gate error</th></tr></table>"
      }
     },
     "fc91693b8db44485bc17c946a87a0112": {
      "model_module": "@jupyter-widgets/controls",
      "model_module_version": "1.5.0",
      "model_name": "DescriptionStyleModel",
      "state": {
       "description_width": ""
      }
     }
    },
    "version_major": 2,
    "version_minor": 0
   }
  }
 },
 "nbformat": 4,
 "nbformat_minor": 5
}
